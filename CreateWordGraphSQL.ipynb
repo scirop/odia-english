{
 "cells": [
  {
   "cell_type": "code",
   "execution_count": 2,
   "metadata": {},
   "outputs": [],
   "source": [
    "import pandas as pd\n",
    "import requests\n",
    "from bs4 import BeautifulSoup\n",
    "import re"
   ]
  },
  {
   "cell_type": "code",
   "execution_count": 3,
   "metadata": {},
   "outputs": [],
   "source": [
    "englist = pd.read_excel(\"/users/swarupsahoo/Dropbox/odia-english/CommonEngWords.xlsx\")"
   ]
  },
  {
   "cell_type": "code",
   "execution_count": 43,
   "metadata": {},
   "outputs": [
    {
     "name": "stdout",
     "output_type": "stream",
     "text": [
      "3000 of 3000 English words Processed\r"
     ]
    }
   ],
   "source": [
    "df = pd.DataFrame()\n",
    "count = 0\n",
    "for word in list(englist['Word']):\n",
    "    count +=1\n",
    "    page = requests.get(\"http://www.odialanguage.com/dictionary/?search_string=%s&mode=match_word&submit=Search\"%word)\n",
    "    soup = BeautifulSoup(page.content)\n",
    "    table = str(soup.find_all('table')[2])\n",
    "    try:\n",
    "        df_temp = pd.read_html(table)[0][1:]\n",
    "        df_temp.columns = ['ENGLISH','PART OF SPEECH', 'ODIA']\n",
    "        df_temp['INPUT'] = word\n",
    "        for index, row in df_temp.iterrows():\n",
    "            df_temp.at[index,'ODIA'] = re.sub('\"','',row['ODIA'])\n",
    "        df = df.append(df_temp)\n",
    "    except:\n",
    "        continue\n",
    "    print(\"%i of 3000 English words Processed\"%(count), end='\\r')"
   ]
  },
  {
   "cell_type": "code",
   "execution_count": 44,
   "metadata": {},
   "outputs": [
    {
     "data": {
      "text/plain": [
       "(19453, 4)"
      ]
     },
     "execution_count": 44,
     "metadata": {},
     "output_type": "execute_result"
    }
   ],
   "source": [
    "df.shape"
   ]
  },
  {
   "cell_type": "code",
   "execution_count": 45,
   "metadata": {},
   "outputs": [],
   "source": [
    "df.to_csv(\"direct_translations.csv\", sep=\"\\t\")"
   ]
  },
  {
   "cell_type": "code",
   "execution_count": 49,
   "metadata": {},
   "outputs": [],
   "source": [
    "import pickle\n",
    "pickle.dump(df,open(\"direct_translations.pkl\",\"wb\"))"
   ]
  },
  {
   "cell_type": "code",
   "execution_count": 48,
   "metadata": {},
   "outputs": [
    {
     "data": {
      "text/html": [
       "<div>\n",
       "<style scoped>\n",
       "    .dataframe tbody tr th:only-of-type {\n",
       "        vertical-align: middle;\n",
       "    }\n",
       "\n",
       "    .dataframe tbody tr th {\n",
       "        vertical-align: top;\n",
       "    }\n",
       "\n",
       "    .dataframe thead th {\n",
       "        text-align: right;\n",
       "    }\n",
       "</style>\n",
       "<table border=\"1\" class=\"dataframe\">\n",
       "  <thead>\n",
       "    <tr style=\"text-align: right;\">\n",
       "      <th></th>\n",
       "      <th>ENGLISH</th>\n",
       "      <th>PART OF SPEECH</th>\n",
       "      <th>ODIA</th>\n",
       "      <th>INPUT</th>\n",
       "    </tr>\n",
       "  </thead>\n",
       "  <tbody>\n",
       "    <tr>\n",
       "      <th>1</th>\n",
       "      <td>yourself</td>\n",
       "      <td>Refl Pron</td>\n",
       "      <td>ତୁମେ ହିଁ</td>\n",
       "      <td>yourself</td>\n",
       "    </tr>\n",
       "    <tr>\n",
       "      <th>1</th>\n",
       "      <td>youth</td>\n",
       "      <td>Ns</td>\n",
       "      <td>ଯୌବନ</td>\n",
       "      <td>youth</td>\n",
       "    </tr>\n",
       "    <tr>\n",
       "      <th>2</th>\n",
       "      <td>youthful</td>\n",
       "      <td>Adj</td>\n",
       "      <td>ଯୁବକ</td>\n",
       "      <td>youth</td>\n",
       "    </tr>\n",
       "    <tr>\n",
       "      <th>1</th>\n",
       "      <td>time-zone</td>\n",
       "      <td>Adj</td>\n",
       "      <td>ସମାନ ସମୟ କ୍ଷେତ୍ର</td>\n",
       "      <td>zone</td>\n",
       "    </tr>\n",
       "    <tr>\n",
       "      <th>2</th>\n",
       "      <td>zone</td>\n",
       "      <td>Ns</td>\n",
       "      <td>କ୍ଷେତ୍ରମଣ୍ଡଳ</td>\n",
       "      <td>zone</td>\n",
       "    </tr>\n",
       "  </tbody>\n",
       "</table>\n",
       "</div>"
      ],
      "text/plain": [
       "     ENGLISH PART OF SPEECH              ODIA     INPUT\n",
       "1   yourself      Refl Pron          ତୁମେ ହିଁ  yourself\n",
       "1      youth             Ns              ଯୌବନ     youth\n",
       "2   youthful            Adj              ଯୁବକ     youth\n",
       "1  time-zone            Adj  ସମାନ ସମୟ କ୍ଷେତ୍ର      zone\n",
       "2       zone             Ns      କ୍ଷେତ୍ରମଣ୍ଡଳ      zone"
      ]
     },
     "execution_count": 48,
     "metadata": {},
     "output_type": "execute_result"
    }
   ],
   "source": [
    "df.tail()"
   ]
  },
  {
   "cell_type": "code",
   "execution_count": 50,
   "metadata": {},
   "outputs": [],
   "source": [
    "df1 = pickle.load(open(\"direct_translations.pkl\",\"rb\"))"
   ]
  },
  {
   "cell_type": "code",
   "execution_count": 51,
   "metadata": {},
   "outputs": [
    {
     "data": {
      "text/html": [
       "<div>\n",
       "<style scoped>\n",
       "    .dataframe tbody tr th:only-of-type {\n",
       "        vertical-align: middle;\n",
       "    }\n",
       "\n",
       "    .dataframe tbody tr th {\n",
       "        vertical-align: top;\n",
       "    }\n",
       "\n",
       "    .dataframe thead th {\n",
       "        text-align: right;\n",
       "    }\n",
       "</style>\n",
       "<table border=\"1\" class=\"dataframe\">\n",
       "  <thead>\n",
       "    <tr style=\"text-align: right;\">\n",
       "      <th></th>\n",
       "      <th>ENGLISH</th>\n",
       "      <th>PART OF SPEECH</th>\n",
       "      <th>ODIA</th>\n",
       "      <th>INPUT</th>\n",
       "    </tr>\n",
       "  </thead>\n",
       "  <tbody>\n",
       "    <tr>\n",
       "      <th>1</th>\n",
       "      <td>-arian</td>\n",
       "      <td>Suffix</td>\n",
       "      <td>-ରେ ବିଶ୍ୱାସ ରଖୁଥିବା</td>\n",
       "      <td>a</td>\n",
       "    </tr>\n",
       "    <tr>\n",
       "      <th>2</th>\n",
       "      <td>a</td>\n",
       "      <td>Ns</td>\n",
       "      <td>ଏକ /କୌଣସି / ପ୍ରତି ପ୍ରତ୍ୟେକ</td>\n",
       "      <td>a</td>\n",
       "    </tr>\n",
       "    <tr>\n",
       "      <th>3</th>\n",
       "      <td>a few</td>\n",
       "      <td>Det</td>\n",
       "      <td>କିଛି</td>\n",
       "      <td>a</td>\n",
       "    </tr>\n",
       "    <tr>\n",
       "      <th>4</th>\n",
       "      <td>a fight to the finish</td>\n",
       "      <td>IDM</td>\n",
       "      <td>ନିର୍ଣାୟକ ଲଢ଼େଇ</td>\n",
       "      <td>a</td>\n",
       "    </tr>\n",
       "    <tr>\n",
       "      <th>5</th>\n",
       "      <td>A fighting chance</td>\n",
       "      <td>IDM</td>\n",
       "      <td>କାର୍ଯ୍ୟର ସଫଳତାର ଅଳ୍ପ ଆଶା</td>\n",
       "      <td>a</td>\n",
       "    </tr>\n",
       "  </tbody>\n",
       "</table>\n",
       "</div>"
      ],
      "text/plain": [
       "                 ENGLISH PART OF SPEECH                        ODIA INPUT\n",
       "1                 -arian         Suffix         -ରେ ବିଶ୍ୱାସ ରଖୁଥିବା     a\n",
       "2                      a             Ns  ଏକ /କୌଣସି / ପ୍ରତି ପ୍ରତ୍ୟେକ     a\n",
       "3                  a few            Det                        କିଛି     a\n",
       "4  a fight to the finish            IDM              ନିର୍ଣାୟକ ଲଢ଼େଇ     a\n",
       "5      A fighting chance            IDM    କାର୍ଯ୍ୟର ସଫଳତାର ଅଳ୍ପ ଆଶା     a"
      ]
     },
     "execution_count": 51,
     "metadata": {},
     "output_type": "execute_result"
    }
   ],
   "source": [
    "df1.head()"
   ]
  },
  {
   "cell_type": "code",
   "execution_count": 52,
   "metadata": {},
   "outputs": [],
   "source": [
    "dict1 = {key:value for (key,value) in zip(list(df1['ENGLISH']), list(df1['ODIA']))}"
   ]
  },
  {
   "cell_type": "code",
   "execution_count": 53,
   "metadata": {},
   "outputs": [],
   "source": [
    "pickle.dump(dict1,open(\"dictionary.pkl\",\"wb\"))"
   ]
  },
  {
   "cell_type": "code",
   "execution_count": 64,
   "metadata": {},
   "outputs": [
    {
     "data": {
      "text/plain": [
       "'କରିବାପୂରା\\xa0କରିବା'"
      ]
     },
     "execution_count": 64,
     "metadata": {},
     "output_type": "execute_result"
    }
   ],
   "source": [
    "dict1['do']"
   ]
  },
  {
   "cell_type": "code",
   "execution_count": null,
   "metadata": {},
   "outputs": [],
   "source": []
  }
 ],
 "metadata": {
  "kernelspec": {
   "display_name": "Python 3",
   "language": "python",
   "name": "python3"
  },
  "language_info": {
   "codemirror_mode": {
    "name": "ipython",
    "version": 3
   },
   "file_extension": ".py",
   "mimetype": "text/x-python",
   "name": "python",
   "nbconvert_exporter": "python",
   "pygments_lexer": "ipython3",
   "version": "3.6.6"
  }
 },
 "nbformat": 4,
 "nbformat_minor": 2
}
