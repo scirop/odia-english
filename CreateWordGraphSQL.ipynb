{
 "cells": [
  {
   "cell_type": "code",
   "execution_count": 2,
   "metadata": {},
   "outputs": [],
   "source": [
    "import pandas as pd\n",
    "import requests\n",
    "from bs4 import BeautifulSoup\n",
    "import re"
   ]
  },
  {
   "cell_type": "code",
   "execution_count": 3,
   "metadata": {},
   "outputs": [],
   "source": [
    "englist = pd.read_excel(\"/users/swarupsahoo/Dropbox/odia-english/CommonEngWords.xlsx\")"
   ]
  },
  {
   "cell_type": "code",
   "execution_count": 43,
   "metadata": {},
   "outputs": [
    {
     "name": "stdout",
     "output_type": "stream",
     "text": [
      "3000 of 3000 English words Processed\r"
     ]
    }
   ],
   "source": [
    "df = pd.DataFrame()\n",
    "count = 0\n",
    "for word in list(englist['Word']):\n",
    "    count +=1\n",
    "    page = requests.get(\"http://www.odialanguage.com/dictionary/?search_string=%s&mode=match_word&submit=Search\"%word)\n",
    "    soup = BeautifulSoup(page.content)\n",
    "    table = str(soup.find_all('table')[2])\n",
    "    try:\n",
    "        df_temp = pd.read_html(table)[0][1:]\n",
    "        df_temp.columns = ['ENGLISH','PART OF SPEECH', 'ODIA']\n",
    "        df_temp['INPUT'] = word\n",
    "        for index, row in df_temp.iterrows():\n",
    "            df_temp.at[index,'ODIA'] = re.sub('\"','',row['ODIA'])\n",
    "        df = df.append(df_temp)\n",
    "    except:\n",
    "        continue\n",
    "    print(\"%i of 3000 English words Processed\"%(count), end='\\r')"
   ]
  },
  {
   "cell_type": "code",
   "execution_count": 49,
   "metadata": {},
   "outputs": [],
   "source": [
    "import pickle\n",
    "pickle.dump(df,open(\"direct_translations.pkl\",\"wb\"))"
   ]
  },
  {
   "cell_type": "code",
   "execution_count": 50,
   "metadata": {},
   "outputs": [],
   "source": [
    "df1 = pickle.load(open(\"direct_translations.pkl\",\"rb\"))"
   ]
  },
  {
   "cell_type": "code",
   "execution_count": 52,
   "metadata": {},
   "outputs": [],
   "source": [
    "dict1 = {key:value for (key,value) in zip(list(df1['ENGLISH']), list(df1['ODIA']))}"
   ]
  },
  {
   "cell_type": "code",
   "execution_count": 53,
   "metadata": {},
   "outputs": [],
   "source": [
    "pickle.dump(dict1,open(\"dictionary.pkl\",\"wb\"))"
   ]
  }
 ],
 "metadata": {
  "kernelspec": {
   "display_name": "Python 3",
   "language": "python",
   "name": "python3"
  },
  "language_info": {
   "codemirror_mode": {
    "name": "ipython",
    "version": 3
   },
   "file_extension": ".py",
   "mimetype": "text/x-python",
   "name": "python",
   "nbconvert_exporter": "python",
   "pygments_lexer": "ipython3",
   "version": "3.6.6"
  }
 },
 "nbformat": 4,
 "nbformat_minor": 2
}
